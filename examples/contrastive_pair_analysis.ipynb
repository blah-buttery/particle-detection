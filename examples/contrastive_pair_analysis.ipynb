{
 "cells": [
  {
   "cell_type": "code",
   "execution_count": 1,
   "id": "30e2390f-a5f3-4002-90cf-2c021f7c1e49",
   "metadata": {},
   "outputs": [],
   "source": [
    "import numpy as np\n",
    "import matplotlib.pyplot as plt\n",
    "\n",
    "import torch\n",
    "import torch.nn.functional as F\n",
    "\n",
    "from sklearn.decomposition import PCA\n",
    "from sklearn.neighbors import NearestNeighbors\n",
    "\n",
    "import sys\n",
    "import os\n",
    "\n",
    "# Add particle_detection to sys.path\n",
    "sys.path.append(os.path.abspath(\"..\"))\n",
    "os.environ[\"PYTORCH_CUDA_ALLOC_CONF\"] = \"expandable_segments:True\"\n",
    "\n",
    "from particle_detection.data.data_pipeline import create_dataloaders"
   ]
  },
  {
   "cell_type": "code",
   "execution_count": 2,
   "id": "a0bab773-51c6-4d54-9f96-1098dc4745b7",
   "metadata": {},
   "outputs": [],
   "source": [
    "z1 = torch.load('../saved_models/patch1.pt')\n",
    "z2 = torch.load('../saved_models/patch2.pt')\n",
    "labels = torch.load('../saved_models/labels.pt')"
   ]
  },
  {
   "cell_type": "code",
   "execution_count": 3,
   "id": "a4d84271-e60b-438c-b5cf-e87e4eb22407",
   "metadata": {},
   "outputs": [
    {
     "name": "stdout",
     "output_type": "stream",
     "text": [
      "z1 shape: torch.Size([3418, 1, 16, 16])\n",
      "z2 shape: torch.Size([3418, 1, 16, 16])\n",
      "labels shape: torch.Size([3418])\n"
     ]
    }
   ],
   "source": [
    "print(f\"z1 shape: {z1.shape}\")  # Expected: (N, latent_dim)\n",
    "print(f\"z2 shape: {z2.shape}\")  # Expected: (N, latent_dim)\n",
    "print(f\"labels shape: {labels.shape}\")  # Expected: (N,)"
   ]
  },
  {
   "cell_type": "code",
   "execution_count": 4,
   "id": "468a8ce3-4420-4cab-ad21-a812db0500a6",
   "metadata": {},
   "outputs": [
    {
     "name": "stdout",
     "output_type": "stream",
     "text": [
      "tensor([0., 0., 0.,  ..., 1., 1., 1.])\n"
     ]
    }
   ],
   "source": [
    "print(labels)"
   ]
  },
  {
   "cell_type": "code",
   "execution_count": 5,
   "id": "c199a680-1482-46dc-83d5-2324a2f200bd",
   "metadata": {},
   "outputs": [
    {
     "data": {
      "image/png": "[encoded data removed]",
      "text/plain": [
       "<Figure size 640x480 with 1 Axes>"
      ]
     },
     "metadata": {},
     "output_type": "display_data"
    }
   ],
   "source": [
    "# Reshape z1 and z2 to (N, -1) before computing distances\n",
    "z1_flat = z1.view(z1.size(0), -1)\n",
    "z2_flat = z2.view(z2.size(0), -1)\n",
    "\n",
    "# Now compute the distances\n",
    "distances = F.pairwise_distance(z1_flat, z2_flat).cpu().numpy()\n",
    "\n",
    "# Plot histograms for similar (label=0) and dissimilar (label=1) pairs\n",
    "plt.hist(distances[labels == 0], bins=50, alpha=0.5, label=\"Similar Pairs (0)\")\n",
    "plt.hist(distances[labels == 1], bins=50, alpha=0.5, label=\"Dissimilar Pairs (1)\")\n",
    "plt.legend()\n",
    "plt.xlabel(\"Distance\")\n",
    "plt.ylabel(\"Count\")\n",
    "plt.title(\"Pairwise Distance Distribution\")\n",
    "plt.show()\n"
   ]
  },
  {
   "cell_type": "code",
   "execution_count": null,
   "id": "cb7ad8c3-5449-4495-9418-141d85285266",
   "metadata": {},
   "outputs": [],
   "source": [
    "z_all = torch.cat([z1, z2], dim=0).cpu().numpy()\n",
    "pca = PCA(n_components=2)\n",
    "z_pca = pca.fit_transform(z_all)\n",
    "\n",
    "plt.scatter(z_pca[: len(z1), 0], z_pca[: len(z1), 1], c=labels.cpu().numpy(), cmap=\"coolwarm\", alpha=0.6)\n",
    "plt.colorbar(label=\"Similarity Label (0 = Similar, 1 = Dissimilar)\")\n",
    "plt.xlabel(\"PCA Dim 1\")\n",
    "plt.ylabel(\"PCA Dim 2\")\n",
    "plt.title(\"PCA Projection of Latent Representations\")\n",
    "plt.show()"
   ]
  },
  {
   "cell_type": "code",
   "execution_count": null,
   "id": "917dbe40-35f4-4cdc-9398-3e03ebdfb114",
   "metadata": {},
   "outputs": [],
   "source": [
    "nbrs = NearestNeighbors(n_neighbors=5, metric=\"euclidean\").fit(z1.cpu().numpy())\n",
    "distances, indices = nbrs.kneighbors(z1.cpu().numpy())\n",
    "\n",
    "print(\"Nearest Neighbors for first 5 samples:\")\n",
    "for i in range(5):\n",
    "    print(f\"Sample {i} Neighbors: {indices[i]}\")\n",
    "    print(f\"Distances: {distances[i]}\")"
   ]
  },
  {
   "cell_type": "code",
   "execution_count": null,
   "id": "3afad298-850a-493f-8002-68ce2274d2ce",
   "metadata": {},
   "outputs": [],
   "source": [
    "from sklearn.utils import resample\n",
    "\n",
    "# Assume z1, z2, and labels are all torch tensors\n",
    "similar_idx = labels == 0\n",
    "dissimilar_idx = labels == 1\n",
    "\n",
    "# Convert to numpy or index tensors\n",
    "similar_z1 = z1[similar_idx]\n",
    "similar_z2 = z2[similar_idx]\n",
    "similar_labels = labels[similar_idx]\n",
    "\n",
    "dissimilar_z1 = z1[dissimilar_idx]\n",
    "dissimilar_z2 = z2[dissimilar_idx]\n",
    "dissimilar_labels = labels[dissimilar_idx]\n",
    "\n",
    "# Downsample dissimilar pairs\n",
    "n_similar = len(similar_labels)\n",
    "dissimilar_z1, dissimilar_z2, dissimilar_labels = resample(\n",
    "    dissimilar_z1, dissimilar_z2, dissimilar_labels, n_samples=n_similar, replace=False\n",
    ")\n",
    "\n",
    "# Combine and shuffle\n",
    "z1 = torch.cat([similar_z1, dissimilar_z1], dim=0)\n",
    "z2 = torch.cat([similar_z2, dissimilar_z2], dim=0)\n",
    "labels = torch.cat([similar_labels, dissimilar_labels], dim=0)"
   ]
  },
  {
   "cell_type": "code",
   "execution_count": null,
   "id": "010f6ea9-4264-4b7d-ab7c-e1d6f1472dab",
   "metadata": {},
   "outputs": [],
   "source": [
    "print(z1.shape)"
   ]
  },
  {
   "cell_type": "code",
   "execution_count": null,
   "id": "d095ff41-bfdc-4bdb-aca3-cf1a2ed6b66a",
   "metadata": {},
   "outputs": [],
   "source": [
    "torch.save(z1, \"../saved_models/patch1.pt\")\n",
    "torch.save(z2, \"../saved_models/patch2.pt\")\n",
    "torch.save(labels, \"../saved_models/labels.pt\")"
   ]
  },
  {
   "cell_type": "code",
   "execution_count": null,
   "id": "1e8b599c-636e-4be4-90fa-96cf1d0d00bb",
   "metadata": {},
   "outputs": [],
   "source": []
  },
  {
   "cell_type": "code",
   "execution_count": null,
   "id": "dcfc98d7-5c1b-4864-bf72-f3da37cce967",
   "metadata": {},
   "outputs": [],
   "source": []
  }
 ],
 "metadata": {
  "kernelspec": {
   "display_name": "Python 3 (ipykernel)",
   "language": "python",
   "name": "python3"
  },
  "language_info": {
   "codemirror_mode": {
    "name": "ipython",
    "version": 3
   },
   "file_extension": ".py",
   "mimetype": "text/x-python",
   "name": "python",
   "nbconvert_exporter": "python",
   "pygments_lexer": "ipython3",
   "version": "3.10.12"
  }
 },
 "nbformat": 4,
 "nbformat_minor": 5
}
