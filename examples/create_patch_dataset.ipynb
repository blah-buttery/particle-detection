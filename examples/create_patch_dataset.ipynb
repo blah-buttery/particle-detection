{
 "cells": [
  {
   "cell_type": "code",
   "execution_count": 1,
   "id": "0529177a-f6fb-4df3-aeb2-dec87b543dae",
   "metadata": {},
   "outputs": [],
   "source": [
    "import sys\n",
    "import os\n",
    "\n",
    "# Add particle_detection to sys.path\n",
    "sys.path.append(os.path.abspath(\"..\"))"
   ]
  },
  {
   "cell_type": "code",
   "execution_count": 2,
   "id": "5b0b65fe-6e46-49ad-86e9-29c6ad25449b",
   "metadata": {},
   "outputs": [],
   "source": [
    "import os\n",
    "import numpy as np\n",
    "import cv2\n",
    "\n",
    "import matplotlib.pyplot as plt\n",
    "import matplotlib.patches as patches\n",
    "\n",
    "import torch\n",
    "\n",
    "from sklearn.mixture import GaussianMixture\n",
    "\n",
    "from particle_detection.data.data_pipeline import create_dataloaders\n",
    "from particle_detection.autoencoder.model import create_autoencoder\n",
    "from particle_detection.utils.model_utils import load_model\n",
    "from particle_detection.clustering.cluster_visualization import process_and_visualize_clusters, visualize_binary_clusters, compare_original_and_clusters\n",
    "from particle_detection.utils.pca_preprocessing import apply_pca, plot_explained_variance"
   ]
  },
  {
   "cell_type": "code",
   "execution_count": 3,
   "id": "29eb9de4-5809-432b-b2ef-1473e2220688",
   "metadata": {},
   "outputs": [],
   "source": [
    "data_dir = \"../data\"\n",
    "#data_dir = \"/home/blah-buttery/nanoparticles/images/normal\" # gpu ws \n",
    "#dataset_dir = \"/Users/blah_m4/Desktop/nanoparticle/images\" # macbook\n",
    "image_size = (2048, 2048)\n",
    "batch_size = 8\n",
    "\n",
    "train_loader, test_loader = create_dataloaders(data_dir=data_dir, image_size=image_size, batch_size=batch_size)"
   ]
  },
  {
   "cell_type": "code",
   "execution_count": 5,
   "id": "53214335-0e34-4700-8fd5-6fb6c2ce8231",
   "metadata": {},
   "outputs": [
    {
     "name": "stdout",
     "output_type": "stream",
     "text": [
      "torch.Size([8, 1, 2048, 2048])\n"
     ]
    }
   ],
   "source": [
    "for img in train_loader:\n",
    "    print(img.shape)"
   ]
  },
  {
   "cell_type": "code",
   "execution_count": 7,
   "id": "ee68b765-cd84-4021-9593-1689678272ad",
   "metadata": {},
   "outputs": [
    {
     "name": "stderr",
     "output_type": "stream",
     "text": [
      "Processing Batches: 100%|███████████████████████████████████████████████████████████████████████████| 1/1 [00:02<00:00,  2.06s/it]"
     ]
    },
    {
     "name": "stdout",
     "output_type": "stream",
     "text": [
      "Successfully saved 2048 patches in ../patches_dataset\n"
     ]
    },
    {
     "name": "stderr",
     "output_type": "stream",
     "text": [
      "\n"
     ]
    }
   ],
   "source": [
    "import os\n",
    "import numpy as np\n",
    "import torch\n",
    "from PIL import Image\n",
    "from tqdm import tqdm  # For progress tracking\n",
    "\n",
    "# Set output directory\n",
    "patches_dir = \"../patches_dataset\"\n",
    "os.makedirs(patches_dir, exist_ok=True)\n",
    "\n",
    "# Define patch size\n",
    "patch_size = 128\n",
    "patch_idx = 0\n",
    "\n",
    "# Loop through train_loader\n",
    "for batch_idx, image_batch in enumerate(tqdm(train_loader, desc=\"Processing Batches\")):\n",
    "    # Remove batch dimension\n",
    "    image_batch = image_batch.squeeze(0)  # If batch size > 1, adjust accordingly\n",
    "\n",
    "    # Convert to NumPy\n",
    "    image_batch = image_batch.cpu().numpy()\n",
    "\n",
    "    # Handle grayscale vs RGB images\n",
    "    if image_batch.shape[1] == 3:  # RGB format (B, C, H, W)\n",
    "        image_batch = np.transpose(image_batch, (0, 2, 3, 1))  # Convert (B, C, H, W) → (B, H, W, C)\n",
    "        mode = \"RGB\"\n",
    "    elif image_batch.shape[1] == 1:  # Grayscale format (B, 1, H, W)\n",
    "        image_batch = image_batch.squeeze(1)  # Convert (B, 1, H, W) → (B, H, W)\n",
    "        mode = \"L\"\n",
    "    else:\n",
    "        raise ValueError(f\"Unexpected image shape: {image_batch.shape}\")\n",
    "\n",
    "    batch_size, h, w = image_batch.shape[:3]  # Get batch size, height, width\n",
    "\n",
    "    # Extract patches\n",
    "    for img_idx in range(batch_size):  # Loop through batch images\n",
    "        img = image_batch[img_idx]  # Get single image\n",
    "\n",
    "        for y in range(0, h, patch_size):\n",
    "            for x in range(0, w, patch_size):\n",
    "                patch = img[y:y+patch_size, x:x+patch_size]\n",
    "\n",
    "                # Convert to uint8 (0-255 range)\n",
    "                patch = (patch * 255).astype(np.uint8)\n",
    "\n",
    "                # Save patch as .TIF\n",
    "                patch_path = os.path.join(patches_dir, f\"patch_{patch_idx:06d}.tif\")\n",
    "                Image.fromarray(patch, mode=mode).save(patch_path)\n",
    "\n",
    "                patch_idx += 1\n",
    "\n",
    "print(f\"Successfully saved {patch_idx} patches in {patches_dir}\")"
   ]
  },
  {
   "cell_type": "code",
   "execution_count": null,
   "id": "f88fea01-6987-4d43-a3f0-2086f84c5906",
   "metadata": {},
   "outputs": [],
   "source": []
  }
 ],
 "metadata": {
  "kernelspec": {
   "display_name": "Python 3 (ipykernel)",
   "language": "python",
   "name": "python3"
  },
  "language_info": {
   "codemirror_mode": {
    "name": "ipython",
    "version": 3
   },
   "file_extension": ".py",
   "mimetype": "text/x-python",
   "name": "python",
   "nbconvert_exporter": "python",
   "pygments_lexer": "ipython3",
   "version": "3.10.12"
  }
 },
 "nbformat": 4,
 "nbformat_minor": 5
}
