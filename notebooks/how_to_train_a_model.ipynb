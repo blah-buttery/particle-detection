{
 "cells": [
  {
   "cell_type": "code",
   "execution_count": 1,
   "id": "92be4903-a1a1-4afd-a154-79e69187cf93",
   "metadata": {},
   "outputs": [],
   "source": [
    "# This file lets you test how to train a model using your cpu"
   ]
  },
  {
   "cell_type": "code",
   "execution_count": 2,
   "id": "615e685f-adcc-413d-8c13-d86fc8bcc430",
   "metadata": {},
   "outputs": [],
   "source": [
    "import sys\n",
    "import os\n",
    "\n",
    "# Add particle_detection to sys.path\n",
    "sys.path.append(os.path.abspath(\"..\"))"
   ]
  },
  {
   "cell_type": "code",
   "execution_count": 3,
   "id": "90167e7a-30b4-4a8f-87d1-de82f41c24e8",
   "metadata": {},
   "outputs": [],
   "source": [
    "from particle_detection.autoencoder.train_model import train\n",
    "\n",
    "num_epochs = 1\n",
    "batch_size = 8\n",
    "learning_rate = 0.0001\n",
    "data_dir = \"../data\"\n",
    "image_size = (224, 224)"
   ]
  },
  {
   "cell_type": "code",
   "execution_count": 5,
   "id": "21fdccab-dfad-429e-b859-0ff9f5328a67",
   "metadata": {},
   "outputs": [
    {
     "name": "stdout",
     "output_type": "stream",
     "text": [
      "Rank 0 using device: cuda:0\n",
      "Rank 0, Epoch [1/1], Loss: 0.0513\n",
      "Model saved to saved_models/ae_1_224x224/model.pth\n"
     ]
    }
   ],
   "source": [
    "# Run training on CPU\n",
    "train(\n",
    "    rank=0,  # 0 for single process\n",
    "    world_size=1,  # Single process, so world size is 1\n",
    "    is_ddp=False,\n",
    "    track_metrics_flag=False, #bugged when true... something to do with jupyter\n",
    "    num_epochs=num_epochs,\n",
    "    batch_size=batch_size,\n",
    "    learning_rate=learning_rate,\n",
    "    data_dir=data_dir,\n",
    "    image_size=image_size\n",
    ")"
   ]
  },
  {
   "cell_type": "code",
   "execution_count": null,
   "id": "85b10b5e-a591-49d8-9a7d-288ea969e8aa",
   "metadata": {},
   "outputs": [],
   "source": [
    "# Note: \n",
    "# jupyter will save the files in the cwd, but if you run in the script directly in the terminal\n",
    "# it will save to the saved models directory in the project directory"
   ]
  },
  {
   "cell_type": "code",
   "execution_count": null,
   "id": "54688aef-c11b-45c5-8658-de95d62eefbb",
   "metadata": {},
   "outputs": [],
   "source": [
    "#example of the equivalent command-line\n",
    "#python -m particle_detection.autoencoder.train_model --data_dir /data --num_epochs 1 --batch_size 8 --learning_rate 0.001 --track_metrics"
   ]
  },
  {
   "cell_type": "code",
   "execution_count": null,
   "id": "c49c668c-aae9-4a06-8cad-dc12de3f49c8",
   "metadata": {},
   "outputs": [],
   "source": [
    "#ddp command example \n",
    "#python -m particle_detection.autoencoder.train_model --data_dir ./data --num_epochs 10 --batch_size 8 --learning_rate 0.001 --track_metrics --is_ddp"
   ]
  }
 ],
 "metadata": {
  "kernelspec": {
   "display_name": "Python 3 (ipykernel)",
   "language": "python",
   "name": "python3"
  },
  "language_info": {
   "codemirror_mode": {
    "name": "ipython",
    "version": 3
   },
   "file_extension": ".py",
   "mimetype": "text/x-python",
   "name": "python",
   "nbconvert_exporter": "python",
   "pygments_lexer": "ipython3",
   "version": "3.10.12"
  }
 },
 "nbformat": 4,
 "nbformat_minor": 5
}
